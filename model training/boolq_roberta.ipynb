{
  "nbformat": 4,
  "nbformat_minor": 0,
  "metadata": {
    "colab": {
      "name": "boolq_roberta.ipynb",
      "provenance": [],
      "collapsed_sections": []
    },
    "kernelspec": {
      "name": "python3",
      "display_name": "Python 3"
    },
    "language_info": {
      "name": "python"
    },
    "accelerator": "GPU"
  },
  "cells": [
    {
      "cell_type": "markdown",
      "source": [
        "# Load Dataset"
      ],
      "metadata": {
        "id": "RqtVmpOiaRaH"
      }
    },
    {
      "cell_type": "code",
      "metadata": {
        "id": "dnxHmM5cEb7W"
      },
      "source": [
        "import pandas as pd\n",
        "content = pd.read_csv('content.csv')"
      ],
      "execution_count": null,
      "outputs": []
    },
    {
      "cell_type": "code",
      "metadata": {
        "colab": {
          "base_uri": "https://localhost:8080/",
          "height": 204
        },
        "id": "EZB4DcN2Jbhr",
        "outputId": "59b39c77-d98d-4d97-9d94-9fde25227499",
        "collapsed": true
      },
      "source": [
        "content.head()"
      ],
      "execution_count": null,
      "outputs": [
        {
          "output_type": "execute_result",
          "data": {
            "text/html": [
              "<div>\n",
              "<style scoped>\n",
              "    .dataframe tbody tr th:only-of-type {\n",
              "        vertical-align: middle;\n",
              "    }\n",
              "\n",
              "    .dataframe tbody tr th {\n",
              "        vertical-align: top;\n",
              "    }\n",
              "\n",
              "    .dataframe thead th {\n",
              "        text-align: right;\n",
              "    }\n",
              "</style>\n",
              "<table border=\"1\" class=\"dataframe\">\n",
              "  <thead>\n",
              "    <tr style=\"text-align: right;\">\n",
              "      <th></th>\n",
              "      <th>sentences</th>\n",
              "      <th>question</th>\n",
              "      <th>answer</th>\n",
              "    </tr>\n",
              "  </thead>\n",
              "  <tbody>\n",
              "    <tr>\n",
              "      <th>0</th>\n",
              "      <td>i am not looking for a job change</td>\n",
              "      <td>is it about answer</td>\n",
              "      <td>1</td>\n",
              "    </tr>\n",
              "    <tr>\n",
              "      <th>1</th>\n",
              "      <td>i dont want to leave my hometown</td>\n",
              "      <td>is it about answer</td>\n",
              "      <td>1</td>\n",
              "    </tr>\n",
              "    <tr>\n",
              "      <th>2</th>\n",
              "      <td>we can have next round tomorrow</td>\n",
              "      <td>is it about answer</td>\n",
              "      <td>1</td>\n",
              "    </tr>\n",
              "    <tr>\n",
              "      <th>3</th>\n",
              "      <td>i have experience with end to end application ...</td>\n",
              "      <td>is it about answer</td>\n",
              "      <td>1</td>\n",
              "    </tr>\n",
              "    <tr>\n",
              "      <th>4</th>\n",
              "      <td>monday works for me</td>\n",
              "      <td>is it about answer</td>\n",
              "      <td>1</td>\n",
              "    </tr>\n",
              "  </tbody>\n",
              "</table>\n",
              "</div>"
            ],
            "text/plain": [
              "                                           sentences  ... answer\n",
              "0                  i am not looking for a job change  ...      1\n",
              "1                   i dont want to leave my hometown  ...      1\n",
              "2                    we can have next round tomorrow  ...      1\n",
              "3  i have experience with end to end application ...  ...      1\n",
              "4                                monday works for me  ...      1\n",
              "\n",
              "[5 rows x 3 columns]"
            ]
          },
          "metadata": {},
          "execution_count": 2
        }
      ]
    },
    {
      "cell_type": "code",
      "metadata": {
        "colab": {
          "base_uri": "https://localhost:8080/"
        },
        "id": "fbHE4TumQodS",
        "outputId": "9677d16f-f58f-4a0d-e6f0-797f5bd0953d",
        "collapsed": true
      },
      "source": [
        "content['answer'].value_counts()"
      ],
      "execution_count": null,
      "outputs": [
        {
          "output_type": "execute_result",
          "data": {
            "text/plain": [
              "0    3212\n",
              "1     803\n",
              "Name: answer, dtype: int64"
            ]
          },
          "metadata": {},
          "execution_count": 3
        }
      ]
    },
    {
      "cell_type": "code",
      "metadata": {
        "id": "lq-dqW2hJfSk"
      },
      "source": [
        "content = content.sample(frac=1).reset_index(0)"
      ],
      "execution_count": null,
      "outputs": []
    },
    {
      "cell_type": "code",
      "metadata": {
        "id": "4PFYga7dJl8u"
      },
      "source": [
        "content = content.drop(columns = ['index'])"
      ],
      "execution_count": null,
      "outputs": []
    },
    {
      "cell_type": "code",
      "metadata": {
        "colab": {
          "base_uri": "https://localhost:8080/",
          "height": 419
        },
        "id": "pUlrN_MxJp84",
        "outputId": "ed865ac6-c729-4d23-f1ee-40a600dc22b2",
        "collapsed": true
      },
      "source": [
        "content"
      ],
      "execution_count": null,
      "outputs": [
        {
          "output_type": "execute_result",
          "data": {
            "text/html": [
              "<div>\n",
              "<style scoped>\n",
              "    .dataframe tbody tr th:only-of-type {\n",
              "        vertical-align: middle;\n",
              "    }\n",
              "\n",
              "    .dataframe tbody tr th {\n",
              "        vertical-align: top;\n",
              "    }\n",
              "\n",
              "    .dataframe thead th {\n",
              "        text-align: right;\n",
              "    }\n",
              "</style>\n",
              "<table border=\"1\" class=\"dataframe\">\n",
              "  <thead>\n",
              "    <tr style=\"text-align: right;\">\n",
              "      <th></th>\n",
              "      <th>sentences</th>\n",
              "      <th>question</th>\n",
              "      <th>answer</th>\n",
              "    </tr>\n",
              "  </thead>\n",
              "  <tbody>\n",
              "    <tr>\n",
              "      <th>0</th>\n",
              "      <td>what clan was king idris part of</td>\n",
              "      <td>is it about reschedule</td>\n",
              "      <td>0</td>\n",
              "    </tr>\n",
              "    <tr>\n",
              "      <th>1</th>\n",
              "      <td>where does its name come from</td>\n",
              "      <td>is it about repeat</td>\n",
              "      <td>0</td>\n",
              "    </tr>\n",
              "    <tr>\n",
              "      <th>2</th>\n",
              "      <td>i will call you later</td>\n",
              "      <td>is it about question</td>\n",
              "      <td>0</td>\n",
              "    </tr>\n",
              "    <tr>\n",
              "      <th>3</th>\n",
              "      <td>what was austpac</td>\n",
              "      <td>is it about wait</td>\n",
              "      <td>0</td>\n",
              "    </tr>\n",
              "    <tr>\n",
              "      <th>4</th>\n",
              "      <td>secure blue was launched in what year</td>\n",
              "      <td>is it about question</td>\n",
              "      <td>1</td>\n",
              "    </tr>\n",
              "    <tr>\n",
              "      <th>...</th>\n",
              "      <td>...</td>\n",
              "      <td>...</td>\n",
              "      <td>...</td>\n",
              "    </tr>\n",
              "    <tr>\n",
              "      <th>4010</th>\n",
              "      <td>i m sorry but i won t be able to speak with yo...</td>\n",
              "      <td>is it about repeat</td>\n",
              "      <td>0</td>\n",
              "    </tr>\n",
              "    <tr>\n",
              "      <th>4011</th>\n",
              "      <td>what brought communism</td>\n",
              "      <td>is it about answer</td>\n",
              "      <td>0</td>\n",
              "    </tr>\n",
              "    <tr>\n",
              "      <th>4012</th>\n",
              "      <td>tell me what you just said once again please</td>\n",
              "      <td>is it about repeat</td>\n",
              "      <td>1</td>\n",
              "    </tr>\n",
              "    <tr>\n",
              "      <th>4013</th>\n",
              "      <td>on tuesday</td>\n",
              "      <td>is it about answer</td>\n",
              "      <td>1</td>\n",
              "    </tr>\n",
              "    <tr>\n",
              "      <th>4014</th>\n",
              "      <td>what award did bell win in</td>\n",
              "      <td>is it about answer</td>\n",
              "      <td>0</td>\n",
              "    </tr>\n",
              "  </tbody>\n",
              "</table>\n",
              "<p>4015 rows × 3 columns</p>\n",
              "</div>"
            ],
            "text/plain": [
              "                                              sentences  ... answer\n",
              "0                      what clan was king idris part of  ...      0\n",
              "1                         where does its name come from  ...      0\n",
              "2                                 i will call you later  ...      0\n",
              "3                                      what was austpac  ...      0\n",
              "4                 secure blue was launched in what year  ...      1\n",
              "...                                                 ...  ...    ...\n",
              "4010  i m sorry but i won t be able to speak with yo...  ...      0\n",
              "4011                             what brought communism  ...      0\n",
              "4012       tell me what you just said once again please  ...      1\n",
              "4013                                         on tuesday  ...      1\n",
              "4014                        what award did bell win in   ...      0\n",
              "\n",
              "[4015 rows x 3 columns]"
            ]
          },
          "metadata": {},
          "execution_count": 6
        }
      ]
    },
    {
      "cell_type": "code",
      "metadata": {
        "colab": {
          "base_uri": "https://localhost:8080/"
        },
        "id": "S1UH9tcrJ9-2",
        "outputId": "3119064c-0b9b-4f3f-e898-67682606ad2d",
        "collapsed": true
      },
      "source": [
        "!pip install torch torchvision\n",
        "!pip install transformers"
      ],
      "execution_count": null,
      "outputs": [
        {
          "output_type": "stream",
          "name": "stdout",
          "text": [
            "Requirement already satisfied: torch in /usr/local/lib/python3.7/dist-packages (1.10.0+cu111)\n",
            "Requirement already satisfied: torchvision in /usr/local/lib/python3.7/dist-packages (0.11.1+cu111)\n",
            "Requirement already satisfied: typing-extensions in /usr/local/lib/python3.7/dist-packages (from torch) (3.10.0.2)\n",
            "Requirement already satisfied: numpy in /usr/local/lib/python3.7/dist-packages (from torchvision) (1.19.5)\n",
            "Requirement already satisfied: pillow!=8.3.0,>=5.3.0 in /usr/local/lib/python3.7/dist-packages (from torchvision) (7.1.2)\n",
            "Collecting transformers\n",
            "  Downloading transformers-4.12.5-py3-none-any.whl (3.1 MB)\n",
            "\u001b[K     |████████████████████████████████| 3.1 MB 5.4 MB/s \n",
            "\u001b[?25hRequirement already satisfied: numpy>=1.17 in /usr/local/lib/python3.7/dist-packages (from transformers) (1.19.5)\n",
            "Collecting huggingface-hub<1.0,>=0.1.0\n",
            "  Downloading huggingface_hub-0.2.1-py3-none-any.whl (61 kB)\n",
            "\u001b[K     |████████████████████████████████| 61 kB 503 kB/s \n",
            "\u001b[?25hRequirement already satisfied: packaging>=20.0 in /usr/local/lib/python3.7/dist-packages (from transformers) (21.3)\n",
            "Requirement already satisfied: tqdm>=4.27 in /usr/local/lib/python3.7/dist-packages (from transformers) (4.62.3)\n",
            "Requirement already satisfied: importlib-metadata in /usr/local/lib/python3.7/dist-packages (from transformers) (4.8.2)\n",
            "Collecting sacremoses\n",
            "  Downloading sacremoses-0.0.46-py3-none-any.whl (895 kB)\n",
            "\u001b[K     |████████████████████████████████| 895 kB 32.9 MB/s \n",
            "\u001b[?25hRequirement already satisfied: regex!=2019.12.17 in /usr/local/lib/python3.7/dist-packages (from transformers) (2019.12.20)\n",
            "Requirement already satisfied: filelock in /usr/local/lib/python3.7/dist-packages (from transformers) (3.4.0)\n",
            "Collecting pyyaml>=5.1\n",
            "  Downloading PyYAML-6.0-cp37-cp37m-manylinux_2_5_x86_64.manylinux1_x86_64.manylinux_2_12_x86_64.manylinux2010_x86_64.whl (596 kB)\n",
            "\u001b[K     |████████████████████████████████| 596 kB 43.7 MB/s \n",
            "\u001b[?25hRequirement already satisfied: requests in /usr/local/lib/python3.7/dist-packages (from transformers) (2.23.0)\n",
            "Collecting tokenizers<0.11,>=0.10.1\n",
            "  Downloading tokenizers-0.10.3-cp37-cp37m-manylinux_2_5_x86_64.manylinux1_x86_64.manylinux_2_12_x86_64.manylinux2010_x86_64.whl (3.3 MB)\n",
            "\u001b[K     |████████████████████████████████| 3.3 MB 30.7 MB/s \n",
            "\u001b[?25hRequirement already satisfied: typing-extensions>=3.7.4.3 in /usr/local/lib/python3.7/dist-packages (from huggingface-hub<1.0,>=0.1.0->transformers) (3.10.0.2)\n",
            "Requirement already satisfied: pyparsing!=3.0.5,>=2.0.2 in /usr/local/lib/python3.7/dist-packages (from packaging>=20.0->transformers) (3.0.6)\n",
            "Requirement already satisfied: zipp>=0.5 in /usr/local/lib/python3.7/dist-packages (from importlib-metadata->transformers) (3.6.0)\n",
            "Requirement already satisfied: chardet<4,>=3.0.2 in /usr/local/lib/python3.7/dist-packages (from requests->transformers) (3.0.4)\n",
            "Requirement already satisfied: certifi>=2017.4.17 in /usr/local/lib/python3.7/dist-packages (from requests->transformers) (2021.10.8)\n",
            "Requirement already satisfied: urllib3!=1.25.0,!=1.25.1,<1.26,>=1.21.1 in /usr/local/lib/python3.7/dist-packages (from requests->transformers) (1.24.3)\n",
            "Requirement already satisfied: idna<3,>=2.5 in /usr/local/lib/python3.7/dist-packages (from requests->transformers) (2.10)\n",
            "Requirement already satisfied: six in /usr/local/lib/python3.7/dist-packages (from sacremoses->transformers) (1.15.0)\n",
            "Requirement already satisfied: joblib in /usr/local/lib/python3.7/dist-packages (from sacremoses->transformers) (1.1.0)\n",
            "Requirement already satisfied: click in /usr/local/lib/python3.7/dist-packages (from sacremoses->transformers) (7.1.2)\n",
            "Installing collected packages: pyyaml, tokenizers, sacremoses, huggingface-hub, transformers\n",
            "  Attempting uninstall: pyyaml\n",
            "    Found existing installation: PyYAML 3.13\n",
            "    Uninstalling PyYAML-3.13:\n",
            "      Successfully uninstalled PyYAML-3.13\n",
            "Successfully installed huggingface-hub-0.2.1 pyyaml-6.0 sacremoses-0.0.46 tokenizers-0.10.3 transformers-4.12.5\n"
          ]
        }
      ]
    },
    {
      "cell_type": "code",
      "metadata": {
        "id": "7zFWUh2uLIm_"
      },
      "source": [
        "import random\n",
        "import torch\n",
        "import numpy as np\n",
        "import pandas as pd\n",
        "from tqdm import tqdm\n",
        "from torch.utils.data import TensorDataset, DataLoader, RandomSampler, SequentialSampler\n",
        "from transformers import AutoTokenizer, AutoModelForSequenceClassification, AdamW\n"
      ],
      "execution_count": null,
      "outputs": []
    },
    {
      "cell_type": "markdown",
      "source": [
        "# Load Model"
      ],
      "metadata": {
        "id": "FQcAjt_raf4L"
      }
    },
    {
      "cell_type": "code",
      "metadata": {
        "colab": {
          "base_uri": "https://localhost:8080/",
          "height": 231
        },
        "id": "L3NSDgQxLM2c",
        "outputId": "545074b2-deef-40ff-fd81-e9754fa18006",
        "collapsed": true
      },
      "source": [
        "device = torch.device(\"cuda\" if torch.cuda.is_available() else \"cpu\")\n",
        "\n",
        "# Set seeds for reproducibility\n",
        "random.seed(26)\n",
        "np.random.seed(26)\n",
        "torch.manual_seed(26)\n",
        "\n",
        "tokenizer = AutoTokenizer.from_pretrained(\"roberta-base\") \n",
        "\n",
        "model = AutoModelForSequenceClassification.from_pretrained(\"roberta-base\")\n",
        "model.to(device) # Send the model to the GPU if we have one\n",
        "\n",
        "learning_rate = 4e-6\n",
        "optimizer = AdamW(model.parameters(), lr=learning_rate, eps=1e-8)"
      ],
      "execution_count": 1,
      "outputs": [
        {
          "output_type": "error",
          "ename": "NameError",
          "evalue": "ignored",
          "traceback": [
            "\u001b[0;31m---------------------------------------------------------------------------\u001b[0m",
            "\u001b[0;31mNameError\u001b[0m                                 Traceback (most recent call last)",
            "\u001b[0;32m<ipython-input-1-4b35622bdd54>\u001b[0m in \u001b[0;36m<module>\u001b[0;34m()\u001b[0m\n\u001b[0;32m----> 1\u001b[0;31m \u001b[0mdevice\u001b[0m \u001b[0;34m=\u001b[0m \u001b[0mtorch\u001b[0m\u001b[0;34m.\u001b[0m\u001b[0mdevice\u001b[0m\u001b[0;34m(\u001b[0m\u001b[0;34m\"cuda\"\u001b[0m \u001b[0;32mif\u001b[0m \u001b[0mtorch\u001b[0m\u001b[0;34m.\u001b[0m\u001b[0mcuda\u001b[0m\u001b[0;34m.\u001b[0m\u001b[0mis_available\u001b[0m\u001b[0;34m(\u001b[0m\u001b[0;34m)\u001b[0m \u001b[0;32melse\u001b[0m \u001b[0;34m\"cpu\"\u001b[0m\u001b[0;34m)\u001b[0m\u001b[0;34m\u001b[0m\u001b[0;34m\u001b[0m\u001b[0m\n\u001b[0m\u001b[1;32m      2\u001b[0m \u001b[0;34m\u001b[0m\u001b[0m\n\u001b[1;32m      3\u001b[0m \u001b[0;31m# Set seeds for reproducibility\u001b[0m\u001b[0;34m\u001b[0m\u001b[0;34m\u001b[0m\u001b[0;34m\u001b[0m\u001b[0m\n\u001b[1;32m      4\u001b[0m \u001b[0mrandom\u001b[0m\u001b[0;34m.\u001b[0m\u001b[0mseed\u001b[0m\u001b[0;34m(\u001b[0m\u001b[0;36m26\u001b[0m\u001b[0;34m)\u001b[0m\u001b[0;34m\u001b[0m\u001b[0;34m\u001b[0m\u001b[0m\n\u001b[1;32m      5\u001b[0m \u001b[0mnp\u001b[0m\u001b[0;34m.\u001b[0m\u001b[0mrandom\u001b[0m\u001b[0;34m.\u001b[0m\u001b[0mseed\u001b[0m\u001b[0;34m(\u001b[0m\u001b[0;36m26\u001b[0m\u001b[0;34m)\u001b[0m\u001b[0;34m\u001b[0m\u001b[0;34m\u001b[0m\u001b[0m\n",
            "\u001b[0;31mNameError\u001b[0m: name 'torch' is not defined"
          ]
        }
      ]
    },
    {
      "cell_type": "markdown",
      "source": [
        "# Encode Data"
      ],
      "metadata": {
        "id": "lcH_8EoQak9z"
      }
    },
    {
      "cell_type": "code",
      "metadata": {
        "id": "sVby3aohLTaQ"
      },
      "source": [
        "def encode_data(tokenizer, questions, passages, max_length):\n",
        "    \"\"\"Encode the question/passage pairs into features than can be fed to the model.\"\"\"\n",
        "    input_ids = []\n",
        "    attention_masks = []\n",
        "\n",
        "    for question, passage in zip(questions, passages):\n",
        "        encoded_data = tokenizer.encode_plus(question, passage, max_length=max_length, pad_to_max_length=True, truncation_strategy=\"longest_first\")\n",
        "        encoded_pair = encoded_data[\"input_ids\"]\n",
        "        attention_mask = encoded_data[\"attention_mask\"]\n",
        "\n",
        "        input_ids.append(encoded_pair)\n",
        "        attention_masks.append(attention_mask)\n",
        "\n",
        "    return np.array(input_ids), np.array(attention_masks)\n"
      ],
      "execution_count": 2,
      "outputs": []
    },
    {
      "cell_type": "code",
      "metadata": {
        "colab": {
          "base_uri": "https://localhost:8080/",
          "height": 231
        },
        "id": "WK918jYCMW1E",
        "outputId": "919cff73-e76b-45a1-aee0-ebf8ca264b4f",
        "collapsed": true
      },
      "source": [
        "print('shape before :',content.shape)\n",
        "all_ones = content[content['answer']==1]\n",
        "content = pd.concat([content, all_ones, all_ones, all_ones, all_ones, all_ones, all_ones, all_ones, all_ones, all_ones, all_ones, all_ones], axis=0)\n",
        "print('shape after :',content.shape)"
      ],
      "execution_count": 3,
      "outputs": [
        {
          "output_type": "error",
          "ename": "NameError",
          "evalue": "ignored",
          "traceback": [
            "\u001b[0;31m---------------------------------------------------------------------------\u001b[0m",
            "\u001b[0;31mNameError\u001b[0m                                 Traceback (most recent call last)",
            "\u001b[0;32m<ipython-input-3-8e4823121eea>\u001b[0m in \u001b[0;36m<module>\u001b[0;34m()\u001b[0m\n\u001b[0;32m----> 1\u001b[0;31m \u001b[0mprint\u001b[0m\u001b[0;34m(\u001b[0m\u001b[0;34m'shape before :'\u001b[0m\u001b[0;34m,\u001b[0m\u001b[0mcontent\u001b[0m\u001b[0;34m.\u001b[0m\u001b[0mshape\u001b[0m\u001b[0;34m)\u001b[0m\u001b[0;34m\u001b[0m\u001b[0;34m\u001b[0m\u001b[0m\n\u001b[0m\u001b[1;32m      2\u001b[0m \u001b[0mall_ones\u001b[0m \u001b[0;34m=\u001b[0m \u001b[0mcontent\u001b[0m\u001b[0;34m[\u001b[0m\u001b[0mcontent\u001b[0m\u001b[0;34m[\u001b[0m\u001b[0;34m'answer'\u001b[0m\u001b[0;34m]\u001b[0m\u001b[0;34m==\u001b[0m\u001b[0;36m1\u001b[0m\u001b[0;34m]\u001b[0m\u001b[0;34m\u001b[0m\u001b[0;34m\u001b[0m\u001b[0m\n\u001b[1;32m      3\u001b[0m \u001b[0mcontent\u001b[0m \u001b[0;34m=\u001b[0m \u001b[0mpd\u001b[0m\u001b[0;34m.\u001b[0m\u001b[0mconcat\u001b[0m\u001b[0;34m(\u001b[0m\u001b[0;34m[\u001b[0m\u001b[0mcontent\u001b[0m\u001b[0;34m,\u001b[0m \u001b[0mall_ones\u001b[0m\u001b[0;34m,\u001b[0m \u001b[0mall_ones\u001b[0m\u001b[0;34m,\u001b[0m \u001b[0mall_ones\u001b[0m\u001b[0;34m,\u001b[0m \u001b[0mall_ones\u001b[0m\u001b[0;34m,\u001b[0m \u001b[0mall_ones\u001b[0m\u001b[0;34m,\u001b[0m \u001b[0mall_ones\u001b[0m\u001b[0;34m,\u001b[0m \u001b[0mall_ones\u001b[0m\u001b[0;34m,\u001b[0m \u001b[0mall_ones\u001b[0m\u001b[0;34m,\u001b[0m \u001b[0mall_ones\u001b[0m\u001b[0;34m,\u001b[0m \u001b[0mall_ones\u001b[0m\u001b[0;34m,\u001b[0m \u001b[0mall_ones\u001b[0m\u001b[0;34m]\u001b[0m\u001b[0;34m,\u001b[0m \u001b[0maxis\u001b[0m\u001b[0;34m=\u001b[0m\u001b[0;36m0\u001b[0m\u001b[0;34m)\u001b[0m\u001b[0;34m\u001b[0m\u001b[0;34m\u001b[0m\u001b[0m\n\u001b[1;32m      4\u001b[0m \u001b[0mprint\u001b[0m\u001b[0;34m(\u001b[0m\u001b[0;34m'shape after :'\u001b[0m\u001b[0;34m,\u001b[0m\u001b[0mcontent\u001b[0m\u001b[0;34m.\u001b[0m\u001b[0mshape\u001b[0m\u001b[0;34m)\u001b[0m\u001b[0;34m\u001b[0m\u001b[0;34m\u001b[0m\u001b[0m\n",
            "\u001b[0;31mNameError\u001b[0m: name 'content' is not defined"
          ]
        }
      ]
    },
    {
      "cell_type": "code",
      "metadata": {
        "id": "un28nK4WLbyz"
      },
      "source": [
        "from sklearn.model_selection import train_test_split\n",
        "train, test = train_test_split(content, test_size = 0.1, stratify=content['answer'])"
      ],
      "execution_count": null,
      "outputs": []
    },
    {
      "cell_type": "code",
      "metadata": {
        "id": "2ZPFPEm1Mepg",
        "collapsed": true
      },
      "source": [
        "train['answer'].value_counts()"
      ],
      "execution_count": null,
      "outputs": []
    },
    {
      "cell_type": "code",
      "metadata": {
        "id": "GLDTsxKnM23l",
        "collapsed": true
      },
      "source": [
        "test['answer'].value_counts()"
      ],
      "execution_count": null,
      "outputs": []
    },
    {
      "cell_type": "code",
      "metadata": {
        "id": "H0xUi3I9NDOR"
      },
      "source": [
        "train = train.reset_index()\n",
        "test = test.reset_index()"
      ],
      "execution_count": null,
      "outputs": []
    },
    {
      "cell_type": "code",
      "metadata": {
        "id": "UNcao5X9NSD6"
      },
      "source": [
        "questions_train = train.question.values\n",
        "answers_train = train.answer.values.astype(int)\n",
        "passages_train = train.sentences.values\n",
        "\n",
        "\n",
        "questions_dev = test.question.values\n",
        "answers_dev = test.answer.values.astype(int)\n",
        "passages_dev = test.sentences.values"
      ],
      "execution_count": null,
      "outputs": []
    },
    {
      "cell_type": "code",
      "metadata": {
        "id": "-FGvmK4KNoYX",
        "collapsed": true
      },
      "source": [
        "max_seq_length = 32\n",
        "input_ids_train, attention_masks_train = encode_data(tokenizer, questions_train, passages_train, max_seq_length)\n",
        "input_ids_dev, attention_masks_dev = encode_data(tokenizer, questions_dev, passages_dev, max_seq_length)\n"
      ],
      "execution_count": null,
      "outputs": []
    },
    {
      "cell_type": "code",
      "source": [
        "attention_masks_dev[0], attention_masks_dev[1], attention_masks_dev[2], attention_masks_dev[3]"
      ],
      "metadata": {
        "id": "L1RbKZy8UX6W",
        "collapsed": true
      },
      "execution_count": null,
      "outputs": []
    },
    {
      "cell_type": "code",
      "metadata": {
        "id": "RPP7SEvWSMJ2"
      },
      "source": [
        "train_features = (input_ids_train, attention_masks_train, answers_train)\n",
        "dev_features = (input_ids_dev, attention_masks_dev, answers_dev)"
      ],
      "execution_count": null,
      "outputs": []
    },
    {
      "cell_type": "code",
      "metadata": {
        "id": "D2vqWXHhUsEB",
        "collapsed": true
      },
      "source": [
        "batch_size = 16\n",
        "\n",
        "train_features_tensors = [torch.tensor(feature, dtype=torch.long) for feature in train_features]\n",
        "dev_features_tensors = [torch.tensor(feature, dtype=torch.long) for feature in dev_features]\n",
        "print(train_features_tensors)\n",
        "train_dataset = TensorDataset(*train_features_tensors)\n",
        "dev_dataset = TensorDataset(*dev_features_tensors)\n",
        "print(train_dataset)\n",
        "train_sampler = RandomSampler(train_dataset)\n",
        "dev_sampler = SequentialSampler(dev_dataset)\n",
        "print(train_sampler)\n",
        "train_dataloader = DataLoader(train_dataset, sampler=train_sampler, batch_size=batch_size)\n",
        "dev_dataloader = DataLoader(dev_dataset, sampler=dev_sampler, batch_size=batch_size)\n",
        "print(train_dataloader)"
      ],
      "execution_count": null,
      "outputs": []
    },
    {
      "cell_type": "code",
      "metadata": {
        "id": "2sYdyrtBUxUu",
        "collapsed": true
      },
      "source": [
        "train_sampler"
      ],
      "execution_count": null,
      "outputs": []
    },
    {
      "cell_type": "markdown",
      "source": [
        "# Train Model"
      ],
      "metadata": {
        "id": "CyPoVHOnaqGK"
      }
    },
    {
      "cell_type": "code",
      "metadata": {
        "colab": {
          "base_uri": "https://localhost:8080/"
        },
        "id": "VFW9gZWOU0Cm",
        "outputId": "2beef8ad-eb63-46aa-ee88-1e8d6f6a7d16",
        "collapsed": true
      },
      "source": [
        "epochs = 20\n",
        "grad_acc_steps = 1\n",
        "train_loss_values = []\n",
        "dev_acc_values = []\n",
        "\n",
        "for _ in tqdm(range(epochs), desc=\"Epoch\"):\n",
        "\n",
        "  # Training\n",
        "  epoch_train_loss = 0 # Cumulative loss\n",
        "  model.train()\n",
        "  model.zero_grad()\n",
        "\n",
        "  for step, batch in enumerate(train_dataloader):\n",
        "\n",
        "      input_ids = batch[0].to(device)\n",
        "      attention_masks = batch[1].to(device)\n",
        "      labels = batch[2].to(device)     \n",
        "\n",
        "      outputs = model(input_ids, token_type_ids=None, attention_mask=attention_masks, labels=labels)\n",
        "      \n",
        "      loss = outputs[0]\n",
        "      loss = loss / grad_acc_steps\n",
        "      epoch_train_loss += loss.item()\n",
        "\n",
        "      loss.backward()\n",
        "      \n",
        "      if (step+1) % grad_acc_steps == 0: # Gradient accumulation is over\n",
        "        torch.nn.utils.clip_grad_norm_(model.parameters(), 1.0) # Clipping gradients\n",
        "        optimizer.step()\n",
        "        model.zero_grad()\n",
        "\n",
        "  epoch_train_loss = epoch_train_loss / len(train_dataloader)          \n",
        "  train_loss_values.append(epoch_train_loss)\n",
        "  \n",
        "  # Evaluation\n",
        "  epoch_dev_accuracy = 0 # Cumulative accuracy\n",
        "  model.eval()\n",
        "\n",
        "  for batch in dev_dataloader:\n",
        "    \n",
        "    input_ids = batch[0].to(device)\n",
        "    attention_masks = batch[1].to(device)\n",
        "    labels = batch[2]\n",
        "                \n",
        "    with torch.no_grad():        \n",
        "        outputs = model(input_ids, token_type_ids=None, attention_mask=attention_masks)\n",
        "                    \n",
        "    logits = outputs[0]\n",
        "    logits = logits.detach().cpu().numpy()\n",
        "    \n",
        "    predictions = np.argmax(logits, axis=1).flatten()\n",
        "    labels = labels.numpy().flatten()\n",
        "    \n",
        "    epoch_dev_accuracy += np.sum(predictions == labels) / len(labels)\n",
        "\n",
        "  epoch_dev_accuracy = epoch_dev_accuracy / len(dev_dataloader)\n",
        "  dev_acc_values.append(epoch_dev_accuracy)\n"
      ],
      "execution_count": null,
      "outputs": [
        {
          "output_type": "stream",
          "name": "stderr",
          "text": [
            "Epoch: 100%|██████████| 20/20 [25:21<00:00, 76.10s/it]\n"
          ]
        }
      ]
    },
    {
      "cell_type": "code",
      "metadata": {
        "colab": {
          "base_uri": "https://localhost:8080/",
          "height": 301
        },
        "id": "i-N1HjODVZTh",
        "outputId": "ba3544ee-d681-4a64-dcd8-20048841f10b",
        "collapsed": true
      },
      "source": [
        "import seaborn as sns\n",
        "import matplotlib.pyplot as plt\n",
        "\n",
        "sns.set()\n",
        "\n",
        "plt.plot(train_loss_values, label=\"train_loss\")\n",
        "\n",
        "plt.xlabel(\"Epoch\")\n",
        "plt.ylabel(\"Loss\")\n",
        "plt.title(\"Training Loss\")\n",
        "plt.legend()\n",
        "plt.xticks(np.arange(0, 5))\n",
        "plt.show()"
      ],
      "execution_count": null,
      "outputs": [
        {
          "output_type": "display_data",
          "data": {
            "image/png": "[encoded data removed]",
            "text/plain": [
              "<Figure size 432x288 with 1 Axes>"
            ]
          },
          "metadata": {}
        }
      ]
    },
    {
      "cell_type": "code",
      "metadata": {
        "colab": {
          "base_uri": "https://localhost:8080/",
          "height": 301
        },
        "id": "q35T7g2NYD-T",
        "outputId": "eb449cb2-ad5e-438e-b57b-b6409ae09447",
        "collapsed": true
      },
      "source": [
        "plt.plot(dev_acc_values, label=\"dev_acc\")\n",
        "\n",
        "plt.xlabel(\"Epoch\")\n",
        "plt.ylabel(\"Accuracy\")\n",
        "plt.title(\"Evaluation Accuracy\")\n",
        "plt.legend()\n",
        "plt.xticks(np.arange(0, 5))\n",
        "plt.show()"
      ],
      "execution_count": null,
      "outputs": [
        {
          "output_type": "display_data",
          "data": {
            "image/png": "[encoded data removed]",
            "text/plain": [
              "<Figure size 432x288 with 1 Axes>"
            ]
          },
          "metadata": {}
        }
      ]
    },
    {
      "cell_type": "markdown",
      "source": [
        "# Model Inference"
      ],
      "metadata": {
        "id": "JVWh9kCwaw13"
      }
    },
    {
      "cell_type": "code",
      "metadata": {
        "id": "3Bzh8KxTYL_b"
      },
      "source": [
        "def predict(questions, passage):\n",
        "  for question in questions:\n",
        "    sequence = tokenizer.encode_plus(question, passage, return_tensors=\"pt\")['input_ids'].to(device)\n",
        "    \n",
        "    logits = model(sequence)[0]\n",
        "    probabilities = torch.softmax(logits, dim=1).detach().cpu().tolist()[0]\n",
        "    proba_yes = round(probabilities[1], 2)\n",
        "    proba_no = round(probabilities[0], 2)\n",
        "\n",
        "    print(f\"Question: {question}, Yes: {proba_yes}, No: {proba_no}\")\n",
        "  print('*'*20)\n",
        "# passage_superbowl = \"\"\"Super Bowl 50 was an American football game to determine the champion of the National Football League\n",
        "#                     (NFL) for the 2015 season. The American Football Conference (AFC) champion Denver Broncos defeated\n",
        "#                     the National Football Conference (NFC) champion Carolina Panthers 24–10 to earn their third Super Bowl title.\n",
        "#                     The game was played on February 7, 2016, at Levi's Stadium in the San Francisco Bay Area at Santa Clara,\n",
        "#                     California. As this was the 50th Super Bowl, the league emphasized the 'golden anniversary' with various\n",
        "#                     gold-themed initiatives, as well as temporarily suspending the tradition of naming each Super Bowl game\n",
        "#                     with Roman numerals (under which the game would have been known as 'Super Bowl L'), so that the logo could\n",
        "#                     prominently feature the Arabic numerals 50.\"\"\"\n",
        " \n",
        "# passage_illuin = \"\"\"Illuin designs and builds solutions tailored to your strategic needs using Artificial Intelligence\n",
        "#                   and the new means of human interaction this technology enables.\"\"\"\n",
        "\n",
        "# superbowl_questions = [\n",
        "# \"Did the Denver Broncos win the Super Bowl 50?\", \n",
        "# \"Did the Carolina Panthers win the Super Bowl 50?\",\n",
        "# \"Was the Super Bowl played at Levi's Stadium?\", \n",
        "# \"Was the Super Bowl 50 played in Las Vegas?\", \n",
        "# \"Was the Super Bowl 50 played in February?\", \n",
        "# \"Was the Super Bowl 50 played in March?\"\n",
        "# ]\n",
        "\n",
        "# question_illuin = \"Is Illuin the answer to your strategic needs?\"\n",
        "\n",
        "# for s_question in superbowl_questions:\n",
        "#   predict(s_question, passage_superbowl)\n",
        "\n",
        "# predict(question_illuin, passage_illuin)\n"
      ],
      "execution_count": null,
      "outputs": []
    }
  ]
}